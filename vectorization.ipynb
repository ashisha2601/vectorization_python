{
  "nbformat": 4,
  "nbformat_minor": 0,
  "metadata": {
    "colab": {
      "provenance": []
    },
    "kernelspec": {
      "name": "python3",
      "display_name": "Python 3"
    },
    "language_info": {
      "name": "python"
    }
  },
  "cells": [
    {
      "cell_type": "code",
      "execution_count": 63,
      "metadata": {
        "id": "koS74pGgcetQ"
      },
      "outputs": [],
      "source": [
        "import time\n",
        
        "import numpy as np"
      ]
    },
    {
      "cell_type": "code",
      "source": [
        "n = 100\n",
        "x = np.random.rand(n)\n",
        "y = np.random.rand(n)\n",
        "start_time = time.time()\n",
        "z1 = []\n",
        "for k in range(n):\n",
        "  z1.append(x[k]*y[k])\n",
        "  end_time = time.time()\n",
        "  t1 = end_time - start_time\n",
        "  print(\"the code took this much seconds\",t1)"
      ],
      "metadata": {
        "colab": {
          "base_uri": "https://localhost:8080/"
        },
        "collapsed": true,
        "id": "O0tEmkTnciZY",
        "outputId": "d5350fb7-fabe-49d7-8fba-7d9af00cde7a"
      },
      "execution_count": 61,
      "outputs": [
        {
          "output_type": "stream",
          "name": "stdout",
          "text": [
            "the code took this much seconds 0.00021338462829589844\n",
            "the code took this much seconds 0.0003333091735839844\n",
            "the code took this much seconds 0.00037550926208496094\n",
            "the code took this much seconds 0.00070953369140625\n",
            "the code took this much seconds 0.000762939453125\n",
            "the code took this much seconds 0.0008115768432617188\n",
            "the code took this much seconds 0.0008609294891357422\n",
            "the code took this much seconds 0.0009114742279052734\n",
            "the code took this much seconds 0.0009624958038330078\n",
            "the code took this much seconds 0.0010116100311279297\n",
            "the code took this much seconds 0.0010814666748046875\n",
            "the code took this much seconds 0.0011327266693115234\n",
            "the code took this much seconds 0.0011837482452392578\n",
            "the code took this much seconds 0.0012385845184326172\n",
            "the code took this much seconds 0.0012879371643066406\n",
            "the code took this much seconds 0.0013358592987060547\n",
            "the code took this much seconds 0.0013844966888427734\n",
            "the code took this much seconds 0.0014348030090332031\n",
            "the code took this much seconds 0.0014905929565429688\n",
            "the code took this much seconds 0.001538991928100586\n",
            "the code took this much seconds 0.0015864372253417969\n",
            "the code took this much seconds 0.01722574234008789\n",
            "the code took this much seconds 0.01730823516845703\n",
            "the code took this much seconds 0.019014835357666016\n",
            "the code took this much seconds 0.01909637451171875\n",
            "the code took this much seconds 0.01912546157836914\n",
            "the code took this much seconds 0.019155025482177734\n",
            "the code took this much seconds 0.019183635711669922\n",
            "the code took this much seconds 0.019211292266845703\n",
            "the code took this much seconds 0.01923990249633789\n",
            "the code took this much seconds 0.019267797470092773\n",
            "the code took this much seconds 0.01929640769958496\n",
            "the code took this much seconds 0.019330739974975586\n",
            "the code took this much seconds 0.01936054229736328\n",
            "the code took this much seconds 0.019388198852539062\n",
            "the code took this much seconds 0.019418001174926758\n",
            "the code took this much seconds 0.019446849822998047\n",
            "the code took this much seconds 0.01948714256286621\n",
            "the code took this much seconds 0.0195162296295166\n",
            "the code took this much seconds 0.01954483985900879\n",
            "the code took this much seconds 0.01957559585571289\n",
            "the code took this much seconds 0.019603729248046875\n",
            "the code took this much seconds 0.019631624221801758\n",
            "the code took this much seconds 0.01965928077697754\n",
            "the code took this much seconds 0.019687175750732422\n",
            "the code took this much seconds 0.01971435546875\n",
            "the code took this much seconds 0.019742965698242188\n",
            "the code took this much seconds 0.01977229118347168\n",
            "the code took this much seconds 0.019801855087280273\n",
            "the code took this much seconds 0.019829988479614258\n",
            "the code took this much seconds 0.01985764503479004\n",
            "the code took this much seconds 0.019886255264282227\n",
            "the code took this much seconds 0.019916296005249023\n",
            "the code took this much seconds 0.01994490623474121\n",
            "the code took this much seconds 0.019974946975708008\n",
            "the code took this much seconds 0.020003318786621094\n",
            "the code took this much seconds 0.020032405853271484\n",
            "the code took this much seconds 0.020076274871826172\n",
            "the code took this much seconds 0.02012944221496582\n",
            "the code took this much seconds 0.024607181549072266\n",
            "the code took this much seconds 0.04429006576538086\n",
            "the code took this much seconds 0.04435420036315918\n",
            "the code took this much seconds 0.0444033145904541\n",
            "the code took this much seconds 0.04445171356201172\n",
            "the code took this much seconds 0.04450249671936035\n",
            "the code took this much seconds 0.04453778266906738\n",
            "the code took this much seconds 0.044585227966308594\n",
            "the code took this much seconds 0.0446324348449707\n",
            "the code took this much seconds 0.044680118560791016\n",
            "the code took this much seconds 0.044725894927978516\n",
            "the code took this much seconds 0.04477286338806152\n",
            "the code took this much seconds 0.04481863975524902\n",
            "the code took this much seconds 0.04486680030822754\n",
            "the code took this much seconds 0.044913291931152344\n",
            "the code took this much seconds 0.044960975646972656\n",
            "the code took this much seconds 0.04500770568847656\n",
            "the code took this much seconds 0.04507112503051758\n",
            "the code took this much seconds 0.0451204776763916\n",
            "the code took this much seconds 0.04516768455505371\n",
            "the code took this much seconds 0.04522299766540527\n",
            "the code took this much seconds 0.04526925086975098\n",
            "the code took this much seconds 0.04531574249267578\n",
            "the code took this much seconds 0.045360565185546875\n",
            "the code took this much seconds 0.045407772064208984\n",
            "the code took this much seconds 0.04545426368713379\n",
            "the code took this much seconds 0.0455012321472168\n",
            "the code took this much seconds 0.0455472469329834\n",
            "the code took this much seconds 0.045592308044433594\n",
            "the code took this much seconds 0.0456395149230957\n",
            "the code took this much seconds 0.0456852912902832\n",
            "the code took this much seconds 0.04573225975036621\n",
            "the code took this much seconds 0.04577946662902832\n",
            "the code took this much seconds 0.045827627182006836\n",
            "the code took this much seconds 0.04587507247924805\n",
            "the code took this much seconds 0.045922040939331055\n",
            "the code took this much seconds 0.04596877098083496\n",
            "the code took this much seconds 0.046013593673706055\n",
            "the code took this much seconds 0.046070098876953125\n",
            "the code took this much seconds 0.04688549041748047\n",
            "the code took this much seconds 0.04694318771362305\n"
          ]
        }
      ]
    },
    {
      "cell_type": "code",
      "source": [
        "#VECTORIZED VERSION OF THE CODE\n",
        "start_time = time.time()\n",
        "z2 = x + y\n",
        "end_time = time.time()\n",
        "t2 = end_time - start_time\n",
        "print (\"the code took this much seconds\",(t2))"
      ],
      "metadata": {
        "colab": {
          "base_uri": "https://localhost:8080/"
        },
        "id": "cIfhpBOociqm",
        "outputId": "39aef45e-4402-4942-90ab-82ed82fb6df4"
      },
      "execution_count": 62,
      "outputs": [
        {
          "output_type": "stream",
          "name": "stdout",
          "text": [
            "the code took this much seconds 0.00013494491577148438\n"
          ]
        }
      ]
    },
    {
      "cell_type": "code",
      "source": [],
      "metadata": {
        "id": "U9PNI9B9citL"
      },
      "execution_count": null,
      "outputs": []
    },
    {
      "cell_type": "code",
      "source": [],
      "metadata": {
        "id": "-Z4amfwgcivx"
      },
      "execution_count": null,
      "outputs": []
    },
    {
      "cell_type": "code",
      "source": [],
      "metadata": {
        "id": "qiz3sOHuciyH"
      },
      "execution_count": null,
      "outputs": []
    }
  ]
}
